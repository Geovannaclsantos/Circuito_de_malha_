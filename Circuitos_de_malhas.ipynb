{
  "nbformat": 4,
  "nbformat_minor": 0,
  "metadata": {
    "colab": {
      "provenance": [],
      "authorship_tag": "ABX9TyOzIpEQV7IVlJUBUCbbyRR4"
    },
    "kernelspec": {
      "name": "python3",
      "display_name": "Python 3"
    },
    "language_info": {
      "name": "python"
    }
  },
  "cells": [
    {
      "cell_type": "code",
      "execution_count": null,
      "metadata": {
        "colab": {
          "base_uri": "https://localhost:8080/"
        },
        "id": "cVBYIOrKMqnz",
        "outputId": "63d795e5-9cf2-4c9a-b622-3caf8ffdeb1f"
      },
      "outputs": [
        {
          "output_type": "stream",
          "name": "stdout",
          "text": [
            "digite o valor da resistência 1: 180\n",
            "digite o valor da resistência 2: 20\n",
            "digite o valor da resistência 3: 100\n",
            "digite o valor da resistência 4: 120\n",
            "digite o valor da resistência 5: 100\n",
            "digite o valor da resistência 6: 200\n",
            "digite o valor da tensão da fonte 1: 1.5\n",
            "digite o valor da tensão da fonte 2: 3\n",
            "digite o valor da tensão da fonte 3: 9\n",
            "digite o valor da tensão da fonte 4: 4.5\n",
            "digite o valor da tensão da fonte 5: 6\n",
            "digite o valor da tensão da fonte 6: 15\n",
            "300.0 100.0 520.0 -6.0 12.0\n",
            "O valor do delta é 146000.0, o valor do delta_1 é igual a -1920.0, e o valor do delta _2 é 3000.0\n",
            "o valor da corrente de I1 é:  -0.01315068493150685\n",
            "o valor da corrente de I2 é:  0.02054794520547945\n",
            "o valor da corrente de I3 é:  0.033698630136986304\n"
          ]
        }
      ],
      "source": [
        "R1=float(input(\"digite o valor da resistência 1: \"))\n",
        "if R1<=0:\n",
        "    print(\"é necessário digitar um valor para resistência maior que 0\")\n",
        "while R1<=0:\n",
        "    print(\"é necessário digitar um valor para resistência  maior que 0\")\n",
        "R2=float(input(\"digite o valor da resistência 2: \"))\n",
        "if R2<=0:\n",
        "    print(\"é necessário digitar um valor para resistência maior que 0\")\n",
        "while R2<=0:\n",
        "    print(\"é necessário digitar um valor para resistência maior que 0\")\n",
        "R3=float(input(\"digite o valor da resistência 3: \"))\n",
        "if R3<=0:\n",
        "    print(\"é necessário digitar um valor para resistência maior que 0\")\n",
        "while R3<=0:\n",
        "    print(\"é necessário digitar um valor para resistência maior que 0\")\n",
        "R4=float(input(\"digite o valor da resistência 4: \"))\n",
        "if R4<=0:\n",
        "    print(\"é necessário digitar um valor para resistência maior que 0\")\n",
        "while R4<=0:\n",
        "    print(\"é necessário digitar um valor para resistência maior que 0\")\n",
        "R5=float(input(\"digite o valor da resistência 5: \"))\n",
        "if R5<=0:\n",
        "    print(\"é necessário digitar um valor para resistência maior que 0\")\n",
        "while R5<=0:\n",
        "    print(\"é necessário digitar um valor para resistência maior que 0\")\n",
        "R6=float(input(\"digite o valor da resistência 6: \"))\n",
        "if R6<=0:\n",
        "    print(\"é necessário digitar um valor para resistência maior que 0\")\n",
        "while R6<=0:\n",
        "    print(\"é necessário digitar um valor para resistência maior que 0\")\n",
        "V1=float(input(\"digite o valor da tensão da fonte 1: \"))\n",
        "if V1<=0:\n",
        "    print(\"é necessário digitar um valor para tensão maior que 0\")\n",
        "while V1<=0:\n",
        "    print(\"é necessário digitar um valor para tensão maior que 0\")\n",
        "V2=float(input(\"digite o valor da tensão da fonte 2: \"))\n",
        "if V2<=0:\n",
        "    print(\"é necessário digitar um valor para tensão maior que 0\")\n",
        "while V2<=0:\n",
        "    print(\"é necessário digitar um valor para tensão maior que 0\")\n",
        "V3=float(input(\"digite o valor da tensão da fonte 3: \"))\n",
        "if V3<=0:\n",
        "    print(\"é necessário digitar um valor para tensão maior que 0\")\n",
        "while V3<=0:\n",
        "    print(\"é necessário digitar um valor para tensão maior que 0\")\n",
        "V4=float(input(\"digite o valor da tensão da fonte 4: \"))\n",
        "if V4<=0:\n",
        "    print(\"é necessário digitar um valor para tensão maior que 0\")\n",
        "while V4<=0:\n",
        "    print(\"é necessário digitar um valor para tensão maior que 0\")\n",
        "V5=float(input(\"digite o valor da tensão da fonte 5: \"))\n",
        "if V5<=0:\n",
        "    print(\"é necessário digitar um valor para tensão maior que 0\")\n",
        "while V5<=0:\n",
        "    print(\"é necessário digitar um valor para tensão maior que 0\")\n",
        "V6=float(input(\"digite o valor da tensão da fonte 6: \"))\n",
        "if V6<=0:\n",
        "    print(\"é necessário digitar um valor para tensão maior que 0\")\n",
        "while V6<=0:\n",
        "    print(\"é necessário digitar um valor para tensão maior que 0\")\n",
        "R11=R1+R2+R3\n",
        "R12=R3\n",
        "R21=R12\n",
        "R22=R3+R4+R5+R6\n",
        "U1=V1-V2+V4-V3\n",
        "U2=V2-V5+V6\n",
        "print(R11,R12,R22,U1,U2)\n",
        "delta=(R11*R22)-(-R12*-R12)\n",
        "delta_1=(U1*R22)-(U2*-R12)\n",
        "delta_2=(R11*U2)-(-R12*U1)\n",
        "I1=delta_1/delta\n",
        "I2=delta_2/delta\n",
        "I3=I2-I1\n",
        "print(\"O valor do delta é {}, o valor do delta_1 é igual a {}, e o valor do delta _2 é {}\".format(delta,delta_1,delta_2))\n",
        "print(\"o valor da corrente de I1 é: \",I1)\n",
        "print(\"o valor da corrente de I2 é: \",I2)\n",
        "print(\"o valor da corrente de I3 é: \",I3)\n"
      ]
    }
  ]
}